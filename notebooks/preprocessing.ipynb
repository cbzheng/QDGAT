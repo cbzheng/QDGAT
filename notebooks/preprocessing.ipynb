{
 "cells": [
  {
   "cell_type": "code",
   "execution_count": 3,
   "metadata": {},
   "outputs": [
    {
     "ename": "SyntaxError",
     "evalue": "invalid syntax (567054819.py, line 7)",
     "output_type": "error",
     "traceback": [
      "\u001b[0;36m  File \u001b[0;32m\"/tmp/ipykernel_19734/567054819.py\"\u001b[0;36m, line \u001b[0;32m7\u001b[0m\n\u001b[0;31m    from './drop_reader' import DropReader\u001b[0m\n\u001b[0m         ^\u001b[0m\n\u001b[0;31mSyntaxError\u001b[0m\u001b[0;31m:\u001b[0m invalid syntax\n"
     ]
    }
   ],
   "source": [
    "import json\n",
    "import torch\n",
    "import os, sys, random, numpy, pickle\n",
    "import argparse\n",
    "import logging\n",
    "from pprint import pprint\n",
    "from drop_reader import DropReader\n",
    "from drop_dataloader import DropBatchGen\n",
    "from network import QDGATNet\n",
    "from utils import AverageMeter\n",
    "from datetime import datetime\n",
    "from optimizer import AdamW\n",
    "from utils import create_logger\n",
    "from transformers import RobertaTokenizer, RobertaModel, AdamW, get_linear_schedule_with_warmup\n",
    "from torch.utils.data import DataLoader, RandomSampler\n",
    "from drop_dataloader import create_collate_fn\n",
    "# from tqdm.notebook import tqdm\n",
    "from tqdm import tqdm"
   ]
  },
  {
   "cell_type": "code",
   "execution_count": null,
   "metadata": {},
   "outputs": [],
   "source": [
    "logger = logging.getLogger()\n",
    "logging.basicConfig(level = logging.INFO)\n",
    "formatter = logging.Formatter(fmt='%(asctime)s %(message)s', datefmt='%m/%d/%Y %I:%M:%S')\n",
    "ch = logging.StreamHandler(sys.stdout)\n",
    "ch.setLevel(logging.INFO)\n",
    "ch.setFormatter(formatter)\n",
    "logger.addHandler(ch)"
   ]
  },
  {
   "cell_type": "code",
   "execution_count": null,
   "metadata": {},
   "outputs": [],
   "source": [
    "def preprocess_drop(data_path, tokenizer):\n",
    "    cache_fpath = os.path.join(args.data_dir, \"%s.pkl\"%mode)\n",
    "    if os.path.exists(cache_fpath): continue\n",
    "\n",
    "    data_fpath = os.path.join(args.data_dir, \"drop_dataset_number_%s_parsed.json\"%mode)\n",
    "    if not os.path.exists(data_fpath):\n",
    "        raise Exception(\"Missing %s for preprocessing.\"%data_fpath)\n",
    "\n",
    "    skip_when_all_empty = [\"passage_span\", \"question_span\", \"addition_subtraction\", \"counting\", \"multi_span\"] if mode=='train' else None\n",
    "    reader = DropReader(\n",
    "        tokenizer, args.passage_length_limit, args.question_length_limit,\n",
    "        skip_when_all_empty=skip_when_all_empty\n",
    "    )\n",
    "    data = reader._read(data_fpath)\n",
    "    with open(cache_fpath, \"wb\") as f:\n",
    "        pickle.dump(data, f)\n",
    "    logger.info('End of data preprocess.')"
   ]
  }
 ],
 "metadata": {
  "interpreter": {
   "hash": "1081f399d3ea870769f0aa26dc05ab0ca3edbca6090c2fb90334027e4f8e8bd7"
  },
  "kernelspec": {
   "display_name": "Python 3.8.12 64-bit ('drop-allennlp': conda)",
   "name": "python3"
  },
  "language_info": {
   "codemirror_mode": {
    "name": "ipython",
    "version": 3
   },
   "file_extension": ".py",
   "mimetype": "text/x-python",
   "name": "python",
   "nbconvert_exporter": "python",
   "pygments_lexer": "ipython3",
   "version": "3.8.12"
  },
  "orig_nbformat": 4
 },
 "nbformat": 4,
 "nbformat_minor": 2
}
